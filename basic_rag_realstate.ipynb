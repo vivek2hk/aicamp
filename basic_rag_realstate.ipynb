{
 "cells": [
  {
   "cell_type": "code",
   "execution_count": null,
   "metadata": {},
   "outputs": [],
   "source": [
    "import pymongo\n",
    "from langchain_openai import OpenAIEmbeddings\n",
    "from langchain_community.document_loaders import DirectoryLoader\n",
    "from langchain_community.vectorstores import MongoDBAtlasVectorSearch\n",
    "from langchain_community.llms import OpenAI\n",
    "from langchain_text_splitters import RecursiveCharacterTextSplitter\n",
    "from langchain.chains import RetrievalQA\n",
    "from dotenv import load_dotenv\n",
    "import os\n",
    "config = load_dotenv()\n",
    "\n",
    "MONGO_URI = os.getenv(\"MONGO_URI\")"
   ]
  },
  {
   "cell_type": "code",
   "execution_count": null,
   "metadata": {},
   "outputs": [],
   "source": [
    "openaiClient = OpenAI()\n",
    "import certifi\n",
    "\n",
    "# set up a MongoDB Atlas vector store\n",
    "mongoClient = pymongo.MongoClient(MONGO_URI, tlsCAFile=certifi.where())\n",
    "dbName= \"rag_climate_demo\"\n",
    "collectionName = \"climate_data\"\n",
    "collection= mongoClient[dbName][collectionName]"
   ]
  },
  {
   "cell_type": "code",
   "execution_count": null,
   "metadata": {},
   "outputs": [],
   "source": [
    "loader = DirectoryLoader('./data_files',glob='*.txt',show_progress=True)\n",
    "data = loader.load()\n",
    "text_splitter = RecursiveCharacterTextSplitter(chunk_size=1000, chunk_overlap=150)\n",
    "docs = text_splitter.split_documents(data)"
   ]
  },
  {
   "cell_type": "code",
   "execution_count": null,
   "metadata": {},
   "outputs": [],
   "source": [
    "vector_store = MongoDBAtlasVectorSearch.from_documents(\n",
    "    documents=docs,\n",
    "    embedding=OpenAIEmbeddings(disallowed_special=()),\n",
    "    collection=collection,\n",
    "    index_name=\"climate_search_index\",\n",
    "    )"
   ]
  },
  {
   "cell_type": "code",
   "execution_count": null,
   "metadata": {},
   "outputs": [],
   "source": [
    "# create a retrieval QA chain \n",
    "def query_data(query):\n",
    "    docs=vector_store.similarity_search(query, K=1)\n",
    "    as_output = docs[0].page_content\n",
    "\n",
    "    retriever= vector_store.as_retriever()\n",
    "    qa= RetrievalQA.from_chain_type(openaiClient,chain_type=\"stuff\", retriever=retriever)\n",
    "    retriever_output = qa.run(query)\n",
    "    print(retriever_output)\n",
    "    return as_output, retriever_output"
   ]
  },
  {
   "cell_type": "code",
   "execution_count": null,
   "metadata": {},
   "outputs": [],
   "source": [
    "print(query_data(\"how has climate change affected tornadoes in Midwest?\"))"
   ]
  }
 ],
 "metadata": {
  "language_info": {
   "name": "python"
  }
 },
 "nbformat": 4,
 "nbformat_minor": 2
}
